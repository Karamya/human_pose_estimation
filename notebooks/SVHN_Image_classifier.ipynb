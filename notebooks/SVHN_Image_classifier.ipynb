{
 "cells": [
  {
   "cell_type": "code",
   "execution_count": 3,
   "id": "603cf681",
   "metadata": {
    "ExecuteTime": {
     "end_time": "2021-04-30T12:16:47.373864Z",
     "start_time": "2021-04-30T12:16:47.257140Z"
    }
   },
   "outputs": [
    {
     "name": "stdout",
     "output_type": "stream",
     "text": [
      "test_32x32.mat\ttrain_32x32.mat\r\n"
     ]
    }
   ],
   "source": [
    "!ls ../data/SVHN_dataset/"
   ]
  },
  {
   "cell_type": "code",
   "execution_count": 16,
   "id": "120cb794",
   "metadata": {
    "ExecuteTime": {
     "end_time": "2021-04-30T12:42:54.408334Z",
     "start_time": "2021-04-30T12:42:54.401841Z"
    }
   },
   "outputs": [],
   "source": [
    "import torch\n",
    "import torchvision\n",
    "import numpy as np\n",
    "import torchvision.transforms as transforms\n",
    "from torch.utils.data import Dataset, DataLoader\n",
    "from scipy.io import loadmat\n",
    "from matplotlib import pyplot as plt"
   ]
  },
  {
   "cell_type": "code",
   "execution_count": 6,
   "id": "9c4a1fcf",
   "metadata": {
    "ExecuteTime": {
     "end_time": "2021-04-30T12:32:16.705474Z",
     "start_time": "2021-04-30T12:32:14.917584Z"
    }
   },
   "outputs": [],
   "source": [
    "train = loadmat('../data/SVHN_dataset/train_32x32.mat')\n",
    "test = loadmat('../data/SVHN_dataset/test_32x32.mat')"
   ]
  },
  {
   "cell_type": "code",
   "execution_count": 19,
   "id": "46c95320",
   "metadata": {
    "ExecuteTime": {
     "end_time": "2021-04-30T12:43:45.299153Z",
     "start_time": "2021-04-30T12:43:45.293077Z"
    }
   },
   "outputs": [
    {
     "data": {
      "text/plain": [
       "array([0, 1, 2, 3, 4, 5, 6, 7, 8, 9], dtype=uint8)"
      ]
     },
     "execution_count": 19,
     "metadata": {},
     "output_type": "execute_result"
    }
   ],
   "source": [
    "np.place(train['y'], train['y']==10, 0)\n",
    "np.unique(train['y'])"
   ]
  },
  {
   "cell_type": "code",
   "execution_count": 209,
   "id": "c49ff52b",
   "metadata": {
    "ExecuteTime": {
     "end_time": "2021-04-30T14:13:07.439929Z",
     "start_time": "2021-04-30T14:13:07.430222Z"
    }
   },
   "outputs": [],
   "source": [
    "class SVHNDataset(Dataset):\n",
    "    def __init__(self, mat_file, transform=None, target_transform=None):\n",
    "        data = loadmat(mat_file)\n",
    "        self.X = data['X']\n",
    "        self.y = data['y'].astype(np.int64).squeeze()\n",
    "        self.X = np.transpose(self.X, (3, 2, 0, 1))\n",
    "        np.place(self.y, self.y==10, 0)\n",
    "        \n",
    "        self.transform = transform\n",
    "        self.target_transform = target_transform\n",
    "        \n",
    "    \n",
    "    def __len__(self):\n",
    "        return len(self.X)\n",
    "    \n",
    "    def __getitem__(self, idx):\n",
    "        img, target = self.X[idx], self.y[idx]\n",
    "        \n",
    "        img = np.transpose(img, (1, 2, 0))\n",
    "        if self.transform is not None:\n",
    "            img = self.transform(img)\n",
    "\n",
    "        if self.target_transform is not None:\n",
    "            target = self.target_transform(target)\n",
    "        \n",
    "        return img, target\n",
    "    \n",
    "    def view(self, idx):\n",
    "        img, target = self.__getitem__(idx)\n",
    "        img = img/2 + 0.5\n",
    "        plt.imshow(np.transpose(img, (0, 1, 2)))\n",
    "        plt.title(f'True Label: {target}')\n",
    "        return"
   ]
  },
  {
   "cell_type": "code",
   "execution_count": 210,
   "id": "32ee6721",
   "metadata": {
    "ExecuteTime": {
     "end_time": "2021-04-30T14:13:09.244916Z",
     "start_time": "2021-04-30T14:13:09.242728Z"
    }
   },
   "outputs": [],
   "source": [
    "transform = transforms.Compose([transforms.ToTensor(),\n",
    "                                transforms.Normalize((0.5, 0.5, 0.5), (0.5, 0.5, 0.5))])"
   ]
  },
  {
   "cell_type": "code",
   "execution_count": 211,
   "id": "1619a372",
   "metadata": {
    "ExecuteTime": {
     "end_time": "2021-04-30T14:13:11.502830Z",
     "start_time": "2021-04-30T14:13:09.737385Z"
    }
   },
   "outputs": [],
   "source": [
    "train_dataset = SVHNDataset('../data/SVHN_dataset/train_32x32.mat', transform=transform)\n",
    "test_dataset = SVHNDataset('../data/SVHN_dataset/test_32x32.mat', transform=transform)"
   ]
  },
  {
   "cell_type": "code",
   "execution_count": 212,
   "id": "0b05facd",
   "metadata": {
    "ExecuteTime": {
     "end_time": "2021-04-30T14:13:14.297433Z",
     "start_time": "2021-04-30T14:13:14.294579Z"
    }
   },
   "outputs": [],
   "source": [
    "batch_size = 32\n",
    "\n",
    "trainloader = torch.utils.data.DataLoader(train_dataset, batch_size=batch_size,\n",
    "                                          shuffle=True, num_workers=2)\n",
    "\n",
    "testloader = torch.utils.data.DataLoader(test_dataset, batch_size=batch_size,\n",
    "                                         shuffle=False, num_workers=2)"
   ]
  },
  {
   "cell_type": "code",
   "execution_count": 213,
   "id": "9f0eb0b5",
   "metadata": {
    "ExecuteTime": {
     "end_time": "2021-04-30T14:13:15.549763Z",
     "start_time": "2021-04-30T14:13:15.520225Z"
    }
   },
   "outputs": [],
   "source": [
    "import torch.nn as nn\n",
    "import torch.nn.functional as F\n",
    "\n",
    "class Net(nn.Module):\n",
    "    def __init__(self):\n",
    "        super().__init__()\n",
    "        self.conv_block1 = nn.Sequential(\n",
    "            nn.Conv2d(in_channels=3, out_channels=6, kernel_size=5, stride=1, padding=2),\n",
    "            nn.BatchNorm2d(6),\n",
    "            nn.ReLU(),\n",
    "            nn.MaxPool2d(kernel_size=2, stride=2))\n",
    "        \n",
    "        self.conv_block2 = nn.Sequential(\n",
    "            nn.Conv2d(in_channels=6, out_channels=12, kernel_size=3, stride=1, padding=1),\n",
    "            nn.BatchNorm2d(12),\n",
    "            nn.ReLU(),\n",
    "            nn.MaxPool2d(kernel_size=2, stride=2))\n",
    "        \n",
    "        self.conv_block3 = nn.Sequential(\n",
    "            nn.Conv2d(in_channels=12, out_channels=24, kernel_size=3, stride=1, padding=1),\n",
    "            nn.BatchNorm2d(24),\n",
    "            nn.ReLU(),\n",
    "            nn.MaxPool2d(kernel_size=2, stride=2))\n",
    "        \n",
    "        self.fc = nn.Linear(24*4*4, out_features=10)\n",
    "\n",
    "    def forward(self, x):\n",
    "        x = self.conv_block1(x)\n",
    "        x = self.conv_block2(x)\n",
    "        x = self.conv_block3(x)\n",
    "        x = x.view(-1, 24 * 4 * 4)\n",
    "        x = self.fc(x)\n",
    "        return x\n",
    "\n",
    "\n",
    "net = Net()"
   ]
  },
  {
   "cell_type": "code",
   "execution_count": 245,
   "id": "00bb691d",
   "metadata": {
    "ExecuteTime": {
     "end_time": "2021-04-30T14:51:45.288139Z",
     "start_time": "2021-04-30T14:51:45.283635Z"
    }
   },
   "outputs": [],
   "source": [
    "def get_accuracy(model, dataloader, device='cpu'):\n",
    "\n",
    "    model.eval()\n",
    "    results = []\n",
    "    for i, (inputs, classes) in enumerate(testloader):\n",
    "        inputs = inputs.to(DEVICE)\n",
    "        classes = classes.to(DEVICE)\n",
    "        outputs = net(inputs)\n",
    "        _, preds = torch.max(outputs, 1)\n",
    "        results.extend(classes==preds)\n",
    "    accuracy = np.array(results).sum()/len(results)\n",
    "    model.train()\n",
    "    return accuracy"
   ]
  },
  {
   "cell_type": "code",
   "execution_count": 246,
   "id": "31fe61ff",
   "metadata": {
    "ExecuteTime": {
     "end_time": "2021-04-30T14:51:46.302440Z",
     "start_time": "2021-04-30T14:51:46.293534Z"
    }
   },
   "outputs": [],
   "source": [
    "import torch.optim as optim\n",
    "\n",
    "criterion = nn.CrossEntropyLoss()\n",
    "optimizer = optim.Adam(net.parameters(), lr=0.001)"
   ]
  },
  {
   "cell_type": "code",
   "execution_count": 247,
   "id": "7e482d3b",
   "metadata": {
    "ExecuteTime": {
     "end_time": "2021-04-30T14:53:28.079834Z",
     "start_time": "2021-04-30T14:51:47.174170Z"
    }
   },
   "outputs": [
    {
     "name": "stdout",
     "output_type": "stream",
     "text": [
      "[1,  2000] loss: 0.361\n",
      "Test Accuracy : 0.8718884449907806\n",
      "[2,  2000] loss: 0.347\n",
      "Test Accuracy : 0.8843730792870313\n",
      "[3,  2000] loss: 0.339\n",
      "Test Accuracy : 0.8919022741241549\n",
      "[4,  2000] loss: 0.330\n",
      "Test Accuracy : 0.8857944068838353\n",
      "[5,  2000] loss: 0.324\n",
      "Test Accuracy : 0.8897510755992625\n",
      "Finished Training\n"
     ]
    }
   ],
   "source": [
    "for epoch in range(5):  # loop over the dataset multiple times\n",
    "\n",
    "    running_loss = 0.0\n",
    "    for i, data in enumerate(trainloader, 0):\n",
    "        # get the inputs; data is a list of [inputs, labels]\n",
    "        inputs, labels = data\n",
    "\n",
    "        # zero the parameter gradients\n",
    "        optimizer.zero_grad()\n",
    "\n",
    "        # forward + backward + optimize\n",
    "        outputs = net(inputs)\n",
    "        loss = criterion(outputs, labels)\n",
    "        loss.backward()\n",
    "        optimizer.step()\n",
    "\n",
    "        # print statistics\n",
    "        running_loss += loss.item()\n",
    "        if i % 2000 == 1999:    # print every 2000 mini-batches\n",
    "            print('[%d, %5d] loss: %.3f' %\n",
    "                  (epoch + 1, i + 1, running_loss / 2000))\n",
    "            print(f\"Test Accuracy : {get_accuracy(net, testloader)}\")\n",
    "            running_loss = 0.0\n",
    "\n",
    "print('Finished Training')"
   ]
  },
  {
   "cell_type": "code",
   "execution_count": null,
   "id": "a353162d",
   "metadata": {},
   "outputs": [],
   "source": [
    "np.arnp"
   ]
  }
 ],
 "metadata": {
  "kernelspec": {
   "display_name": "Python 3",
   "language": "python",
   "name": "python3"
  },
  "language_info": {
   "codemirror_mode": {
    "name": "ipython",
    "version": 3
   },
   "file_extension": ".py",
   "mimetype": "text/x-python",
   "name": "python",
   "nbconvert_exporter": "python",
   "pygments_lexer": "ipython3",
   "version": "3.9.4"
  },
  "toc": {
   "base_numbering": 1,
   "nav_menu": {},
   "number_sections": true,
   "sideBar": true,
   "skip_h1_title": false,
   "title_cell": "Table of Contents",
   "title_sidebar": "Contents",
   "toc_cell": false,
   "toc_position": {},
   "toc_section_display": true,
   "toc_window_display": false
  }
 },
 "nbformat": 4,
 "nbformat_minor": 5
}
